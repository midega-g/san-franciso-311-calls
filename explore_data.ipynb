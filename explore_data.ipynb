{
 "cells": [
  {
   "cell_type": "code",
   "execution_count": 1,
   "id": "72f3e6e4",
   "metadata": {},
   "outputs": [
    {
     "name": "stderr",
     "output_type": "stream",
     "text": [
      "WARNING:root:Requests made without an app_token will be subject to strict throttling limits.\n"
     ]
    }
   ],
   "source": [
    "import duckdb\n",
    "import pandas as pd\n",
    "from extract_data import sample_api_data\n",
    "\n",
    "pd.set_option('display.max_columns', None)\n",
    "conn = duckdb.connect()"
   ]
  },
  {
   "cell_type": "markdown",
   "id": "43e50e99",
   "metadata": {},
   "source": [
    "## API Call\n",
    "\n",
    "Reading data returned as JSON from API (Python list of dictionaries) by `sodapy` and then converting it to Pandas `DataFrame` object."
   ]
  },
  {
   "cell_type": "code",
   "execution_count": 2,
   "id": "4e09f016",
   "metadata": {},
   "outputs": [],
   "source": [
    "data = sample_api_data() \n",
    "results_df = pd.DataFrame.from_records(data)"
   ]
  },
  {
   "cell_type": "code",
   "execution_count": 3,
   "id": "44c792af",
   "metadata": {},
   "outputs": [
    {
     "data": {
      "text/html": [
       "<div>\n",
       "<style scoped>\n",
       "    .dataframe tbody tr th:only-of-type {\n",
       "        vertical-align: middle;\n",
       "    }\n",
       "\n",
       "    .dataframe tbody tr th {\n",
       "        vertical-align: top;\n",
       "    }\n",
       "\n",
       "    .dataframe thead th {\n",
       "        text-align: right;\n",
       "    }\n",
       "</style>\n",
       "<table border=\"1\" class=\"dataframe\">\n",
       "  <thead>\n",
       "    <tr style=\"text-align: right;\">\n",
       "      <th></th>\n",
       "      <th>service_request_id</th>\n",
       "      <th>requested_datetime</th>\n",
       "      <th>closed_date</th>\n",
       "      <th>updated_datetime</th>\n",
       "      <th>status_description</th>\n",
       "      <th>status_notes</th>\n",
       "      <th>agency_responsible</th>\n",
       "      <th>service_name</th>\n",
       "      <th>service_subtype</th>\n",
       "      <th>service_details</th>\n",
       "      <th>address</th>\n",
       "      <th>street</th>\n",
       "      <th>supervisor_district</th>\n",
       "      <th>neighborhoods_sffind_boundaries</th>\n",
       "      <th>analysis_neighborhood</th>\n",
       "      <th>police_district</th>\n",
       "      <th>lat</th>\n",
       "      <th>long</th>\n",
       "      <th>point</th>\n",
       "      <th>point_geom</th>\n",
       "      <th>source</th>\n",
       "      <th>data_as_of</th>\n",
       "      <th>data_loaded_at</th>\n",
       "    </tr>\n",
       "  </thead>\n",
       "  <tbody>\n",
       "    <tr>\n",
       "      <th>0</th>\n",
       "      <td>101001243928</td>\n",
       "      <td>2025-01-01T00:00:36.000</td>\n",
       "      <td>2025-01-01T10:26:42.000</td>\n",
       "      <td>2025-01-01T10:26:51.000</td>\n",
       "      <td>Closed</td>\n",
       "      <td>Case Resolved</td>\n",
       "      <td>Recology - Overflowing</td>\n",
       "      <td>Street and Sidewalk Cleaning</td>\n",
       "      <td>garbage_and_debris</td>\n",
       "      <td>city_garbage_can_overflowing</td>\n",
       "      <td>2202 GREENWICH ST, SAN FRANCISCO, CA 94123</td>\n",
       "      <td>GREENWICH ST</td>\n",
       "      <td>2.0</td>\n",
       "      <td>UNION STREET</td>\n",
       "      <td>Marina</td>\n",
       "      <td>NORTHERN</td>\n",
       "      <td>37.7989126</td>\n",
       "      <td>-122.4359842</td>\n",
       "      <td>{'latitude': '37.7989126', 'longitude': '-122....</td>\n",
       "      <td>{'type': 'Point', 'coordinates': [-122.4359842...</td>\n",
       "      <td>Mobile</td>\n",
       "      <td>2025-01-11T06:00:00.000</td>\n",
       "      <td>2025-01-12T08:58:27.000</td>\n",
       "    </tr>\n",
       "    <tr>\n",
       "      <th>1</th>\n",
       "      <td>101001243930</td>\n",
       "      <td>2025-01-01T00:01:08.000</td>\n",
       "      <td>2025-01-01T09:46:32.000</td>\n",
       "      <td>2025-01-01T09:46:42.000</td>\n",
       "      <td>Closed</td>\n",
       "      <td>Case Resolved</td>\n",
       "      <td>Recology - Overflowing</td>\n",
       "      <td>Street and Sidewalk Cleaning</td>\n",
       "      <td>garbage_and_debris</td>\n",
       "      <td>city_garbage_can_overflowing</td>\n",
       "      <td>2303 MARKET ST, SAN FRANCISCO, CA 94114</td>\n",
       "      <td>MARKET ST</td>\n",
       "      <td>8.0</td>\n",
       "      <td>CASTRO</td>\n",
       "      <td>Castro/Upper Market</td>\n",
       "      <td>MISSION</td>\n",
       "      <td>37.763931498092944</td>\n",
       "      <td>-122.43319536218104</td>\n",
       "      <td>{'latitude': '37.763931498092944', 'longitude'...</td>\n",
       "      <td>{'type': 'Point', 'coordinates': [-122.4331953...</td>\n",
       "      <td>Mobile</td>\n",
       "      <td>2025-01-11T06:00:00.000</td>\n",
       "      <td>2025-01-12T08:58:27.000</td>\n",
       "    </tr>\n",
       "    <tr>\n",
       "      <th>2</th>\n",
       "      <td>101001243932</td>\n",
       "      <td>2025-01-01T00:05:36.000</td>\n",
       "      <td>2025-01-01T10:26:46.000</td>\n",
       "      <td>2025-01-01T10:26:53.000</td>\n",
       "      <td>Closed</td>\n",
       "      <td>Case Resolved</td>\n",
       "      <td>Recology - Overflowing</td>\n",
       "      <td>Street and Sidewalk Cleaning</td>\n",
       "      <td>garbage_and_debris</td>\n",
       "      <td>city_garbage_can_overflowing</td>\n",
       "      <td>311 MARKET ST, SAN FRANCISCO, CA 94105</td>\n",
       "      <td>MARKET ST</td>\n",
       "      <td>6.0</td>\n",
       "      <td>FINANCIAL DISTRICT</td>\n",
       "      <td>Financial District/South Beach</td>\n",
       "      <td>CENTRAL</td>\n",
       "      <td>37.79220657089487</td>\n",
       "      <td>-122.3975187832069</td>\n",
       "      <td>{'latitude': '37.79220657089487', 'longitude':...</td>\n",
       "      <td>{'type': 'Point', 'coordinates': [-122.3975187...</td>\n",
       "      <td>Mobile</td>\n",
       "      <td>2025-01-11T06:00:00.000</td>\n",
       "      <td>2025-01-12T08:58:27.000</td>\n",
       "    </tr>\n",
       "    <tr>\n",
       "      <th>3</th>\n",
       "      <td>101001243933</td>\n",
       "      <td>2025-01-01T00:08:03.000</td>\n",
       "      <td>2025-01-01T08:51:16.000</td>\n",
       "      <td>2025-01-01T08:51:23.000</td>\n",
       "      <td>Closed</td>\n",
       "      <td>Case Resolved</td>\n",
       "      <td>Recology - Overflowing</td>\n",
       "      <td>Street and Sidewalk Cleaning</td>\n",
       "      <td>garbage_and_debris</td>\n",
       "      <td>city_garbage_can_overflowing</td>\n",
       "      <td>498 24TH AVE, SAN FRANCISCO, CA 94121</td>\n",
       "      <td>24TH AVE</td>\n",
       "      <td>1.0</td>\n",
       "      <td>OUTER RICHMOND</td>\n",
       "      <td>Outer Richmond</td>\n",
       "      <td>RICHMOND</td>\n",
       "      <td>37.780269873363686</td>\n",
       "      <td>-122.48354790743672</td>\n",
       "      <td>{'latitude': '37.780269873363686', 'longitude'...</td>\n",
       "      <td>{'type': 'Point', 'coordinates': [-122.4835479...</td>\n",
       "      <td>Mobile</td>\n",
       "      <td>2025-01-11T06:00:00.000</td>\n",
       "      <td>2025-01-12T08:58:27.000</td>\n",
       "    </tr>\n",
       "    <tr>\n",
       "      <th>4</th>\n",
       "      <td>101001243935</td>\n",
       "      <td>2025-01-01T00:08:49.000</td>\n",
       "      <td>2025-01-01T10:26:50.000</td>\n",
       "      <td>2025-01-01T10:26:56.000</td>\n",
       "      <td>Closed</td>\n",
       "      <td>Case Resolved</td>\n",
       "      <td>Recology - Overflowing</td>\n",
       "      <td>Street and Sidewalk Cleaning</td>\n",
       "      <td>garbage_and_debris</td>\n",
       "      <td>city_garbage_can_overflowing</td>\n",
       "      <td>2301 HYDE ST, SAN FRANCISCO, CA 94109</td>\n",
       "      <td>HYDE ST</td>\n",
       "      <td>2.0</td>\n",
       "      <td>RUSSIAN HILL</td>\n",
       "      <td>Russian Hill</td>\n",
       "      <td>CENTRAL</td>\n",
       "      <td>37.80206323892925</td>\n",
       "      <td>-122.41975693040368</td>\n",
       "      <td>{'latitude': '37.80206323892925', 'longitude':...</td>\n",
       "      <td>{'type': 'Point', 'coordinates': [-122.4197569...</td>\n",
       "      <td>Mobile</td>\n",
       "      <td>2025-01-11T06:00:00.000</td>\n",
       "      <td>2025-01-12T08:58:27.000</td>\n",
       "    </tr>\n",
       "  </tbody>\n",
       "</table>\n",
       "</div>"
      ],
      "text/plain": [
       "  service_request_id       requested_datetime              closed_date  \\\n",
       "0       101001243928  2025-01-01T00:00:36.000  2025-01-01T10:26:42.000   \n",
       "1       101001243930  2025-01-01T00:01:08.000  2025-01-01T09:46:32.000   \n",
       "2       101001243932  2025-01-01T00:05:36.000  2025-01-01T10:26:46.000   \n",
       "3       101001243933  2025-01-01T00:08:03.000  2025-01-01T08:51:16.000   \n",
       "4       101001243935  2025-01-01T00:08:49.000  2025-01-01T10:26:50.000   \n",
       "\n",
       "          updated_datetime status_description   status_notes  \\\n",
       "0  2025-01-01T10:26:51.000             Closed  Case Resolved   \n",
       "1  2025-01-01T09:46:42.000             Closed  Case Resolved   \n",
       "2  2025-01-01T10:26:53.000             Closed  Case Resolved   \n",
       "3  2025-01-01T08:51:23.000             Closed  Case Resolved   \n",
       "4  2025-01-01T10:26:56.000             Closed  Case Resolved   \n",
       "\n",
       "       agency_responsible                  service_name     service_subtype  \\\n",
       "0  Recology - Overflowing  Street and Sidewalk Cleaning  garbage_and_debris   \n",
       "1  Recology - Overflowing  Street and Sidewalk Cleaning  garbage_and_debris   \n",
       "2  Recology - Overflowing  Street and Sidewalk Cleaning  garbage_and_debris   \n",
       "3  Recology - Overflowing  Street and Sidewalk Cleaning  garbage_and_debris   \n",
       "4  Recology - Overflowing  Street and Sidewalk Cleaning  garbage_and_debris   \n",
       "\n",
       "                service_details                                     address  \\\n",
       "0  city_garbage_can_overflowing  2202 GREENWICH ST, SAN FRANCISCO, CA 94123   \n",
       "1  city_garbage_can_overflowing     2303 MARKET ST, SAN FRANCISCO, CA 94114   \n",
       "2  city_garbage_can_overflowing      311 MARKET ST, SAN FRANCISCO, CA 94105   \n",
       "3  city_garbage_can_overflowing       498 24TH AVE, SAN FRANCISCO, CA 94121   \n",
       "4  city_garbage_can_overflowing       2301 HYDE ST, SAN FRANCISCO, CA 94109   \n",
       "\n",
       "         street supervisor_district neighborhoods_sffind_boundaries  \\\n",
       "0  GREENWICH ST                 2.0                    UNION STREET   \n",
       "1     MARKET ST                 8.0                          CASTRO   \n",
       "2     MARKET ST                 6.0              FINANCIAL DISTRICT   \n",
       "3      24TH AVE                 1.0                  OUTER RICHMOND   \n",
       "4       HYDE ST                 2.0                    RUSSIAN HILL   \n",
       "\n",
       "            analysis_neighborhood police_district                 lat  \\\n",
       "0                          Marina        NORTHERN          37.7989126   \n",
       "1             Castro/Upper Market         MISSION  37.763931498092944   \n",
       "2  Financial District/South Beach         CENTRAL   37.79220657089487   \n",
       "3                  Outer Richmond        RICHMOND  37.780269873363686   \n",
       "4                    Russian Hill         CENTRAL   37.80206323892925   \n",
       "\n",
       "                  long                                              point  \\\n",
       "0         -122.4359842  {'latitude': '37.7989126', 'longitude': '-122....   \n",
       "1  -122.43319536218104  {'latitude': '37.763931498092944', 'longitude'...   \n",
       "2   -122.3975187832069  {'latitude': '37.79220657089487', 'longitude':...   \n",
       "3  -122.48354790743672  {'latitude': '37.780269873363686', 'longitude'...   \n",
       "4  -122.41975693040368  {'latitude': '37.80206323892925', 'longitude':...   \n",
       "\n",
       "                                          point_geom  source  \\\n",
       "0  {'type': 'Point', 'coordinates': [-122.4359842...  Mobile   \n",
       "1  {'type': 'Point', 'coordinates': [-122.4331953...  Mobile   \n",
       "2  {'type': 'Point', 'coordinates': [-122.3975187...  Mobile   \n",
       "3  {'type': 'Point', 'coordinates': [-122.4835479...  Mobile   \n",
       "4  {'type': 'Point', 'coordinates': [-122.4197569...  Mobile   \n",
       "\n",
       "                data_as_of           data_loaded_at  \n",
       "0  2025-01-11T06:00:00.000  2025-01-12T08:58:27.000  \n",
       "1  2025-01-11T06:00:00.000  2025-01-12T08:58:27.000  \n",
       "2  2025-01-11T06:00:00.000  2025-01-12T08:58:27.000  \n",
       "3  2025-01-11T06:00:00.000  2025-01-12T08:58:27.000  \n",
       "4  2025-01-11T06:00:00.000  2025-01-12T08:58:27.000  "
      ]
     },
     "execution_count": 3,
     "metadata": {},
     "output_type": "execute_result"
    }
   ],
   "source": [
    "results_df.head()"
   ]
  },
  {
   "cell_type": "code",
   "execution_count": null,
   "id": "0c3855c4",
   "metadata": {},
   "outputs": [],
   "source": []
  },
  {
   "cell_type": "markdown",
   "id": "3f64f10c",
   "metadata": {},
   "source": [
    "## Storing the Data (Optional)\n",
    "\n",
    "Storing the data as `csv` file then using DuckDB to query it."
   ]
  },
  {
   "cell_type": "code",
   "execution_count": 4,
   "id": "1b333d5c",
   "metadata": {},
   "outputs": [],
   "source": [
    "results_df.to_csv('data/sample_data.csv', index=False)"
   ]
  },
  {
   "cell_type": "code",
   "execution_count": 7,
   "id": "73f20676",
   "metadata": {},
   "outputs": [
    {
     "data": {
      "text/html": [
       "<div>\n",
       "<style scoped>\n",
       "    .dataframe tbody tr th:only-of-type {\n",
       "        vertical-align: middle;\n",
       "    }\n",
       "\n",
       "    .dataframe tbody tr th {\n",
       "        vertical-align: top;\n",
       "    }\n",
       "\n",
       "    .dataframe thead th {\n",
       "        text-align: right;\n",
       "    }\n",
       "</style>\n",
       "<table border=\"1\" class=\"dataframe\">\n",
       "  <thead>\n",
       "    <tr style=\"text-align: right;\">\n",
       "      <th></th>\n",
       "      <th>service_request_id</th>\n",
       "      <th>requested_datetime</th>\n",
       "      <th>closed_date</th>\n",
       "      <th>updated_datetime</th>\n",
       "      <th>status_description</th>\n",
       "      <th>status_notes</th>\n",
       "      <th>agency_responsible</th>\n",
       "      <th>service_name</th>\n",
       "      <th>service_subtype</th>\n",
       "      <th>service_details</th>\n",
       "      <th>address</th>\n",
       "      <th>street</th>\n",
       "      <th>supervisor_district</th>\n",
       "      <th>neighborhoods_sffind_boundaries</th>\n",
       "      <th>analysis_neighborhood</th>\n",
       "      <th>police_district</th>\n",
       "      <th>lat</th>\n",
       "      <th>long</th>\n",
       "      <th>point</th>\n",
       "      <th>point_geom</th>\n",
       "      <th>source</th>\n",
       "      <th>data_as_of</th>\n",
       "      <th>data_loaded_at</th>\n",
       "    </tr>\n",
       "  </thead>\n",
       "  <tbody>\n",
       "    <tr>\n",
       "      <th>0</th>\n",
       "      <td>101001243928</td>\n",
       "      <td>2025-01-01T00:00:36.000</td>\n",
       "      <td>2025-01-01T10:26:42.000</td>\n",
       "      <td>2025-01-01T10:26:51.000</td>\n",
       "      <td>Closed</td>\n",
       "      <td>Case Resolved</td>\n",
       "      <td>Recology - Overflowing</td>\n",
       "      <td>Street and Sidewalk Cleaning</td>\n",
       "      <td>garbage_and_debris</td>\n",
       "      <td>city_garbage_can_overflowing</td>\n",
       "      <td>2202 GREENWICH ST, SAN FRANCISCO, CA 94123</td>\n",
       "      <td>GREENWICH ST</td>\n",
       "      <td>2.0</td>\n",
       "      <td>UNION STREET</td>\n",
       "      <td>Marina</td>\n",
       "      <td>NORTHERN</td>\n",
       "      <td>37.7989126</td>\n",
       "      <td>-122.4359842</td>\n",
       "      <td>{'latitude': '37.7989126', 'longitude': '-122....</td>\n",
       "      <td>{'type': 'Point', 'coordinates': [-122.4359842...</td>\n",
       "      <td>Mobile</td>\n",
       "      <td>2025-01-11T06:00:00.000</td>\n",
       "      <td>2025-01-12T08:58:27.000</td>\n",
       "    </tr>\n",
       "  </tbody>\n",
       "</table>\n",
       "</div>"
      ],
      "text/plain": [
       "  service_request_id       requested_datetime              closed_date  \\\n",
       "0       101001243928  2025-01-01T00:00:36.000  2025-01-01T10:26:42.000   \n",
       "\n",
       "          updated_datetime status_description   status_notes  \\\n",
       "0  2025-01-01T10:26:51.000             Closed  Case Resolved   \n",
       "\n",
       "       agency_responsible                  service_name     service_subtype  \\\n",
       "0  Recology - Overflowing  Street and Sidewalk Cleaning  garbage_and_debris   \n",
       "\n",
       "                service_details                                     address  \\\n",
       "0  city_garbage_can_overflowing  2202 GREENWICH ST, SAN FRANCISCO, CA 94123   \n",
       "\n",
       "         street supervisor_district neighborhoods_sffind_boundaries  \\\n",
       "0  GREENWICH ST                 2.0                    UNION STREET   \n",
       "\n",
       "  analysis_neighborhood police_district         lat          long  \\\n",
       "0                Marina        NORTHERN  37.7989126  -122.4359842   \n",
       "\n",
       "                                               point  \\\n",
       "0  {'latitude': '37.7989126', 'longitude': '-122....   \n",
       "\n",
       "                                          point_geom  source  \\\n",
       "0  {'type': 'Point', 'coordinates': [-122.4359842...  Mobile   \n",
       "\n",
       "                data_as_of           data_loaded_at  \n",
       "0  2025-01-11T06:00:00.000  2025-01-12T08:58:27.000  "
      ]
     },
     "execution_count": 7,
     "metadata": {},
     "output_type": "execute_result"
    }
   ],
   "source": [
    "DATA_FILE_PATH = \"data/sample_data.csv\" \n",
    "\n",
    "df = conn.execute(\n",
    "    f\"\"\"\n",
    "    SELECT * FROM read_csv('{DATA_FILE_PATH}', all_varchar=true)\n",
    "    \"\"\"\n",
    ").fetch_df()\n",
    "\n",
    "df.head(1)"
   ]
  },
  {
   "cell_type": "code",
   "execution_count": null,
   "id": "3f838d98",
   "metadata": {},
   "outputs": [
    {
     "data": {
      "text/plain": [
       "Index(['service_request_id', 'requested_datetime', 'closed_date',\n",
       "       'updated_datetime', 'status_description', 'status_notes',\n",
       "       'agency_responsible', 'service_name', 'service_subtype',\n",
       "       'service_details', 'address', 'street', 'supervisor_district',\n",
       "       'neighborhoods_sffind_boundaries', 'analysis_neighborhood',\n",
       "       'police_district', 'lat', 'long', 'point', 'point_geom', 'source',\n",
       "       'data_as_of', 'data_loaded_at'],\n",
       "      dtype='object')"
      ]
     },
     "execution_count": 13,
     "metadata": {},
     "output_type": "execute_result"
    }
   ],
   "source": [
    "df.columns"
   ]
  },
  {
   "cell_type": "code",
   "execution_count": 8,
   "id": "978ae375",
   "metadata": {},
   "outputs": [
    {
     "data": {
      "text/plain": [
       "array(['Case Resolved',\n",
       "       'Case Resolved - Officer responded to request under CAD # 250010056. Unable to Locate.',\n",
       "       'Case Resolved - Officer responded to request under CAD # 250010077. Unable to Locate.',\n",
       "       'Case is a Duplicate - REFERRED TO PGE CONSTRUCTION DEPT ON EC TAG# 129571881'],\n",
       "      dtype=object)"
      ]
     },
     "execution_count": 8,
     "metadata": {},
     "output_type": "execute_result"
    }
   ],
   "source": [
    "df[\"status_notes\"].unique()"
   ]
  },
  {
   "cell_type": "code",
   "execution_count": 9,
   "id": "f0e7dbfe",
   "metadata": {},
   "outputs": [
    {
     "data": {
      "text/plain": [
       "array(['Recology - Overflowing', 'MTA - Parking Enforcement Dispatch',\n",
       "       'PGE - Streetlights'], dtype=object)"
      ]
     },
     "execution_count": 9,
     "metadata": {},
     "output_type": "execute_result"
    }
   ],
   "source": [
    "df[\"agency_responsible\"].unique()"
   ]
  },
  {
   "cell_type": "code",
   "execution_count": 10,
   "id": "8fe77a11",
   "metadata": {},
   "outputs": [
    {
     "data": {
      "text/plain": [
       "array(['Street and Sidewalk Cleaning', 'Parking Enforcement',\n",
       "       'Streetlights'], dtype=object)"
      ]
     },
     "execution_count": 10,
     "metadata": {},
     "output_type": "execute_result"
    }
   ],
   "source": [
    "df[\"service_name\"].unique()"
   ]
  },
  {
   "cell_type": "code",
   "execution_count": 11,
   "id": "2c24d22a",
   "metadata": {},
   "outputs": [
    {
     "data": {
      "text/plain": [
       "array(['UNION STREET', 'CASTRO', 'FINANCIAL DISTRICT', 'OUTER RICHMOND',\n",
       "       'RUSSIAN HILL', 'TELEGRAPH HILL', 'Telegraph Hill', 'PANHANDLE',\n",
       "       'INNER RICHMOND'], dtype=object)"
      ]
     },
     "execution_count": 11,
     "metadata": {},
     "output_type": "execute_result"
    }
   ],
   "source": [
    "df[\"neighborhoods_sffind_boundaries\"].unique()"
   ]
  },
  {
   "cell_type": "code",
   "execution_count": 12,
   "id": "1af6cc19",
   "metadata": {},
   "outputs": [
    {
     "data": {
      "text/plain": [
       "array(['Marina', 'Castro/Upper Market', 'Financial District/South Beach',\n",
       "       'Outer Richmond', 'Russian Hill', 'North Beach',\n",
       "       'Lone Mountain/USF', 'Inner Richmond'], dtype=object)"
      ]
     },
     "execution_count": 12,
     "metadata": {},
     "output_type": "execute_result"
    }
   ],
   "source": [
    "df[\"analysis_neighborhood\"].unique()"
   ]
  },
  {
   "cell_type": "code",
   "execution_count": 14,
   "id": "e44db5f4",
   "metadata": {},
   "outputs": [
    {
     "data": {
      "text/plain": [
       "array(['2.0', '8.0', '6.0', '1.0', '3.0', '5.0'], dtype=object)"
      ]
     },
     "execution_count": 14,
     "metadata": {},
     "output_type": "execute_result"
    }
   ],
   "source": [
    "df[\"supervisor_district\"].unique()"
   ]
  }
 ],
 "metadata": {
  "kernelspec": {
   "display_name": "san-fransico-311-calls",
   "language": "python",
   "name": "python3"
  },
  "language_info": {
   "codemirror_mode": {
    "name": "ipython",
    "version": 3
   },
   "file_extension": ".py",
   "mimetype": "text/x-python",
   "name": "python",
   "nbconvert_exporter": "python",
   "pygments_lexer": "ipython3",
   "version": "3.12.11"
  }
 },
 "nbformat": 4,
 "nbformat_minor": 5
}
